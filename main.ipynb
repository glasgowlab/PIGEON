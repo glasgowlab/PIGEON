{
 "cells": [
  {
   "cell_type": "markdown",
   "metadata": {},
   "source": [
    "### load the data"
   ]
  },
  {
   "cell_type": "code",
   "execution_count": 5,
   "metadata": {},
   "outputs": [
    {
     "name": "stdout",
     "output_type": "stream",
     "text": [
      "Namespace(pm='./example/2dri_protein.pdb', table=['./example/10-25_rbsb_pool_results-CLEANED.csv'], ranges='./example/rangeslist-10-25.csv', exclude=False, s1=None, s2=None, compare=None, cbarmax=None, ldmin=0.3)\n"
     ]
    }
   ],
   "source": [
    "from data_processing import process_table, load_ranges_file, process_cleaned_data\n",
    "import argparse\n",
    "import numpy as np\n",
    "import pandas as pd\n",
    "from pymol import cmd\n",
    "\n",
    "\n",
    "parser = argparse.ArgumentParser(description='Statistical analysis of HDX/MS data for curated RbsR peptides in one or more functional states.')\n",
    "parser.add_argument('--pm', dest='pm', help=\"path to pymol structure\", required=True)\n",
    "parser.add_argument('--t', '--table', dest='table', help=\"path to uptake table\", nargs='+', required=True)\n",
    "parser.add_argument('--r', '--ranges', dest='ranges', help='path to ranges list csv')\n",
    "parser.add_argument('--e', '--exclude', dest='exclude', action='store_true', help='exclude rather than include rangeslist')\n",
    "parser.add_argument('--s1', dest='s1', help='first state to compare')\n",
    "parser.add_argument('--s2', dest='s2', help='second state to compare')\n",
    "parser.add_argument('--compare', dest='compare', help='dna, ligand, both', nargs=3)\n",
    "parser.add_argument('--cbarmax', dest='cbarmax', type=float, help='max value for colorbar axis for dDbar')\n",
    "parser.add_argument('--ldmin', dest='ldmin', type=float, help='in dDbar, minimum difference threshold between ligand/dna states')\n",
    "\n",
    "\n",
    "\n",
    "args = parser.parse_args(args=['--t', './example/10-25_rbsb_pool_results-CLEANED.csv',\n",
    "                               '--r', './example/rangeslist-10-25.csv', \n",
    "                               '--pm', './example/2dri_protein.pdb',\n",
    "                               '--ldmin','0.3'])\n",
    "\n",
    "print(args)\n",
    "cmd.load(args.pm)\n",
    "colorbar_max = 0.2 if args.cbarmax is None else args.cbarmax\n",
    "delta_LD_threshold = 0.075 if args.ldmin is None else args.ldmin\n",
    "\n",
    "\n",
    "\n",
    "newbigdf = pd.DataFrame()\n",
    "\n",
    "# Process all tables\n",
    "for table in args.table:\n",
    "    newbigdf = pd.concat([newbigdf, process_table(table)])\n",
    "\n",
    "# Convert columns to the appropriate data types\n",
    "newbigdf['Start'] = newbigdf['Start'].apply(np.int64)\n",
    "newbigdf['End'] = newbigdf['End'].apply(np.int64)\n",
    "newbigdf['#D'] = newbigdf['#D'].apply(float)"
   ]
  },
  {
   "cell_type": "markdown",
   "metadata": {},
   "source": [
    "### clean the data"
   ]
  },
  {
   "cell_type": "code",
   "execution_count": 6,
   "metadata": {},
   "outputs": [
    {
     "name": "stdout",
     "output_type": "stream",
     "text": [
      "rangeslist included !\n"
     ]
    }
   ],
   "source": [
    "\n",
    "from data_processing import get_unique_sorted, create_sequence_dict\n",
    "\n",
    "cleaned  = load_ranges_file(args.ranges, newbigdf, args.exclude)\n",
    "cleaned = process_cleaned_data(cleaned)\n",
    "\n",
    "\n",
    "states = list(dict.fromkeys(cleaned['Protein State']))\n",
    "#states.sort()\n",
    "peptides = list(dict.fromkeys(cleaned['Sequence']))\n",
    "#peptides.sort()\n",
    "timepoints = list(dict.fromkeys(cleaned['Deut Time (sec)']))\n",
    "#timepoints.sort()\n",
    "\n",
    "\n",
    "states_dict, first_res, peptides_2 = create_sequence_dict(cleaned, states)"
   ]
  },
  {
   "cell_type": "markdown",
   "metadata": {},
   "source": [
    "### non linear fitting of the data"
   ]
  },
  {
   "cell_type": "code",
   "execution_count": 7,
   "metadata": {},
   "outputs": [
    {
     "name": "stderr",
     "output_type": "stream",
     "text": [
      "/home/chenlin/anaconda3/envs/MD/lib/python3.10/site-packages/scipy/optimize/_minpack_py.py:881: OptimizeWarning: Covariance of the parameters could not be estimated\n",
      "  warnings.warn('Covariance of the parameters could not be estimated',\n"
     ]
    }
   ],
   "source": [
    "from utils import compile_exchange_info, fit_functions\n",
    "\n",
    "\n",
    "# Compile the exchange information\n",
    "peptide_exchange_dict, stdev_dict_dict = compile_exchange_info(cleaned, states, states_dict)\n",
    "\n",
    "# Fit the exchange functions\n",
    "trialT, peptide_fit_dict, peptide_params_dict, peptide_err_dict = fit_functions(peptides, peptide_exchange_dict, timepoints)\n"
   ]
  },
  {
   "cell_type": "markdown",
   "metadata": {},
   "source": [
    "### plot the uptake plots"
   ]
  },
  {
   "cell_type": "code",
   "execution_count": 4,
   "metadata": {},
   "outputs": [],
   "source": [
    "import matplotlib.pyplot as plt\n",
    "from plot_functions import assign_colors, create_plot, handle_element, handle_list_item, adjust_plot, save_plot\n",
    "\n",
    "color_dict = assign_colors(states)\n",
    "ax1 = create_plot()\n",
    "\n",
    "for peptide in peptide_exchange_dict:\n",
    "    element = peptide_exchange_dict.get(peptide)\n",
    "    if element is not None:\n",
    "        handle_element(peptide, element, timepoints, stdev_dict_dict, color_dict, peptide_fit_dict, ax1, trialT)\n",
    "        for list_item in peptides_2:\n",
    "            plot_title, y_lim = handle_list_item(list_item, peptide, ax1, peptides_2)\n",
    "            if plot_title and y_lim is not None:\n",
    "                adjust_plot(ax1, plot_title, y_lim)\n",
    "                save_plot(plot_title)\n",
    "        ax1.clear()\n",
    "\n",
    "plt.close('all')"
   ]
  },
  {
   "cell_type": "code",
   "execution_count": null,
   "metadata": {},
   "outputs": [],
   "source": []
  }
 ],
 "metadata": {
  "kernelspec": {
   "display_name": "MD",
   "language": "python",
   "name": "python3"
  },
  "language_info": {
   "codemirror_mode": {
    "name": "ipython",
    "version": 3
   },
   "file_extension": ".py",
   "mimetype": "text/x-python",
   "name": "python",
   "nbconvert_exporter": "python",
   "pygments_lexer": "ipython3",
   "version": "3.10.11"
  },
  "orig_nbformat": 4
 },
 "nbformat": 4,
 "nbformat_minor": 2
}
